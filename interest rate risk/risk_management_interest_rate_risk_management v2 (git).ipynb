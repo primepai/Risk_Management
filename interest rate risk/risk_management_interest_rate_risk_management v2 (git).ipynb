{
 "cells": [
  {
   "cell_type": "code",
   "execution_count": 71,
   "id": "1e2404fc",
   "metadata": {},
   "outputs": [],
   "source": [
    "# The fail of SVB bank shows when a financial institution doesn't manage its assets  \n",
    "# and liabilities well, negative consequences will occur. Below is an example of how \n",
    "# to utilize duration techniques to manage a financial institution's assets & liabilities \n",
    "# so that when there is a big swing in interest rate, it won't cause a bank failure. \n"
   ]
  },
  {
   "cell_type": "code",
   "execution_count": 72,
   "id": "8a97a1d9",
   "metadata": {},
   "outputs": [],
   "source": [
    "# For most banks customers prefer long-term loans (mortgage for example) and\n",
    "# short-term deposits. Reason is long-term loans can lock in interest rate and short-term deposits \n",
    "# are more flexible when they need funds. There is a mismatch between bank's asset (long-term)\n",
    "# and liabilities(short-term). However, when interest rate arise, this issue get worse as\n",
    "# banks have to increase their deposit rates while long-term loan rates are fixed, which reduces \n",
    "# Net Interest Margin (NIM), or even cause liquidity problem.\n",
    "# This duration mismatch is one of the reasons caused SVB failure. "
   ]
  },
  {
   "cell_type": "code",
   "execution_count": 73,
   "id": "e093fca9",
   "metadata": {},
   "outputs": [],
   "source": [
    "# Duration measures the sensitivity of percentage changes in bond's price to changes in its yield:"
   ]
  },
  {
   "cell_type": "markdown",
   "id": "b9cc3739",
   "metadata": {},
   "source": [
    "$ duration: D= \\large\\frac{-1}{B} \\frac{\\Delta B}{\\Delta y} =\\large\\frac{-1}{B}\\frac{dB}{dy}$ .    ( B is bond price, y is interet rate)"
   ]
  },
  {
   "cell_type": "code",
   "execution_count": 74,
   "id": "4c64c94c",
   "metadata": {},
   "outputs": [],
   "source": [
    "# we know that when interest rate goes up, bond price goes down, vice versa."
   ]
  },
  {
   "cell_type": "code",
   "execution_count": 75,
   "id": "c4342dab",
   "metadata": {},
   "outputs": [],
   "source": [
    "# when interest rate moves dramatically, we need second order derivative.\n",
    "# convexity: "
   ]
  },
  {
   "cell_type": "markdown",
   "id": "04b397dc",
   "metadata": {},
   "source": [
    "$\\large C=\\frac{1}{B} \\frac{d^2B}{dy^2}$"
   ]
  },
  {
   "cell_type": "code",
   "execution_count": 79,
   "id": "280a2145",
   "metadata": {},
   "outputs": [],
   "source": [
    "# from Talyor series, we know:"
   ]
  },
  {
   "cell_type": "markdown",
   "id": "db147d8e",
   "metadata": {},
   "source": [
    "$\\Delta B=\\frac{dB}{dy}\\Delta y + 1/2* \\frac{d^2 B}{d y^2} (\\Delta y)^2 $"
   ]
  },
  {
   "cell_type": "code",
   "execution_count": 80,
   "id": "cf275395",
   "metadata": {},
   "outputs": [],
   "source": [
    "# divide by B, we get:"
   ]
  },
  {
   "cell_type": "markdown",
   "id": "bec89678",
   "metadata": {},
   "source": [
    "$\\frac{\\Delta B}{B}=-D\\Delta y + 1/2* C (\\Delta y)^2 $"
   ]
  },
  {
   "cell_type": "code",
   "execution_count": 81,
   "id": "46018aa8",
   "metadata": {},
   "outputs": [],
   "source": [
    "# note that the duration D of a portlofio is the weighted average of the durations of the individual\n",
    "# assets with the weight assigned to an asset being proportional to the value of the asset."
   ]
  },
  {
   "cell_type": "markdown",
   "id": "8e393cd6",
   "metadata": {},
   "source": [
    "$ \\large D= \\sum\\limits_{i=1}^{n}\\frac{X_i}{P}D_i $"
   ]
  },
  {
   "cell_type": "code",
   "execution_count": 144,
   "id": "e41aecab",
   "metadata": {},
   "outputs": [],
   "source": [
    "# D(i) is the duration of the ith asset/liability, X(i) is the value of ith asset/liability;"
   ]
  },
  {
   "cell_type": "code",
   "execution_count": null,
   "id": "6ab18f8a",
   "metadata": {},
   "outputs": [],
   "source": []
  },
  {
   "cell_type": "code",
   "execution_count": 1,
   "id": "fb97f59a",
   "metadata": {},
   "outputs": [],
   "source": [
    "# definition of portfolio immunization:\n",
    "#A portfolio consisting of long and short positions in interest-rate-dependent assets \n",
    "#can be protected against relatively small parallel shifts in the yield curve by ensuring \n",
    "#that its duration is zero. It can be protected against large parallel shifts in the yield\n",
    "#curve by ensuring its duration and convexity are both zero or close to zero. "
   ]
  },
  {
   "cell_type": "code",
   "execution_count": null,
   "id": "ad9a996c",
   "metadata": {},
   "outputs": [],
   "source": []
  },
  {
   "cell_type": "code",
   "execution_count": 3,
   "id": "5a06cf78",
   "metadata": {},
   "outputs": [],
   "source": [
    "# however, there is a requirement that the yield curve must be flat for such immunization strategy \n",
    "# to work well. But the yield curve isn't always flat (long-term and short-term interest rate don't\n",
    "# change at same level). So we need to use partial duration, meaning rate for each term changes\n",
    "# differently."
   ]
  },
  {
   "cell_type": "code",
   "execution_count": null,
   "id": "9644e921",
   "metadata": {},
   "outputs": [],
   "source": []
  },
  {
   "cell_type": "code",
   "execution_count": null,
   "id": "e8aa96cd",
   "metadata": {},
   "outputs": [],
   "source": [
    "# assume we have a bank whose deposit and loan are as follows, notice that it has more long-term\n",
    "# loans and short-term deposits. "
   ]
  },
  {
   "cell_type": "code",
   "execution_count": 12,
   "id": "e95c4159",
   "metadata": {},
   "outputs": [],
   "source": [
    "loan_deposit01=pd.read_csv(\"H:\\\\loan_deposit.csv\")"
   ]
  },
  {
   "cell_type": "code",
   "execution_count": 13,
   "id": "085d3e24",
   "metadata": {},
   "outputs": [
    {
     "data": {
      "text/html": [
       "<div>\n",
       "<style scoped>\n",
       "    .dataframe tbody tr th:only-of-type {\n",
       "        vertical-align: middle;\n",
       "    }\n",
       "\n",
       "    .dataframe tbody tr th {\n",
       "        vertical-align: top;\n",
       "    }\n",
       "\n",
       "    .dataframe thead th {\n",
       "        text-align: right;\n",
       "    }\n",
       "</style>\n",
       "<table border=\"1\" class=\"dataframe\">\n",
       "  <thead>\n",
       "    <tr style=\"text-align: right;\">\n",
       "      <th></th>\n",
       "      <th>term</th>\n",
       "      <th>loan_balance</th>\n",
       "      <th>deposit_balance</th>\n",
       "      <th>interest_rate_loan</th>\n",
       "      <th>intererst_rate_deposit</th>\n",
       "    </tr>\n",
       "  </thead>\n",
       "  <tbody>\n",
       "    <tr>\n",
       "      <th>0</th>\n",
       "      <td>1</td>\n",
       "      <td>100</td>\n",
       "      <td>300</td>\n",
       "      <td>2.0</td>\n",
       "      <td>0.5</td>\n",
       "    </tr>\n",
       "    <tr>\n",
       "      <th>1</th>\n",
       "      <td>2</td>\n",
       "      <td>110</td>\n",
       "      <td>600</td>\n",
       "      <td>2.5</td>\n",
       "      <td>1.0</td>\n",
       "    </tr>\n",
       "    <tr>\n",
       "      <th>2</th>\n",
       "      <td>3</td>\n",
       "      <td>120</td>\n",
       "      <td>400</td>\n",
       "      <td>2.7</td>\n",
       "      <td>1.5</td>\n",
       "    </tr>\n",
       "    <tr>\n",
       "      <th>3</th>\n",
       "      <td>4</td>\n",
       "      <td>200</td>\n",
       "      <td>300</td>\n",
       "      <td>3.0</td>\n",
       "      <td>1.8</td>\n",
       "    </tr>\n",
       "    <tr>\n",
       "      <th>4</th>\n",
       "      <td>5</td>\n",
       "      <td>170</td>\n",
       "      <td>50</td>\n",
       "      <td>3.5</td>\n",
       "      <td>2.0</td>\n",
       "    </tr>\n",
       "    <tr>\n",
       "      <th>5</th>\n",
       "      <td>7</td>\n",
       "      <td>400</td>\n",
       "      <td>40</td>\n",
       "      <td>5.0</td>\n",
       "      <td>2.5</td>\n",
       "    </tr>\n",
       "    <tr>\n",
       "      <th>6</th>\n",
       "      <td>10</td>\n",
       "      <td>700</td>\n",
       "      <td>60</td>\n",
       "      <td>8.0</td>\n",
       "      <td>3.0</td>\n",
       "    </tr>\n",
       "    <tr>\n",
       "      <th>7</th>\n",
       "      <td>30</td>\n",
       "      <td>1200</td>\n",
       "      <td>50</td>\n",
       "      <td>12.0</td>\n",
       "      <td>5.0</td>\n",
       "    </tr>\n",
       "  </tbody>\n",
       "</table>\n",
       "</div>"
      ],
      "text/plain": [
       "   term  loan_balance  deposit_balance  interest_rate_loan  \\\n",
       "0     1           100              300                 2.0   \n",
       "1     2           110              600                 2.5   \n",
       "2     3           120              400                 2.7   \n",
       "3     4           200              300                 3.0   \n",
       "4     5           170               50                 3.5   \n",
       "5     7           400               40                 5.0   \n",
       "6    10           700               60                 8.0   \n",
       "7    30          1200               50                12.0   \n",
       "\n",
       "   intererst_rate_deposit  \n",
       "0                     0.5  \n",
       "1                     1.0  \n",
       "2                     1.5  \n",
       "3                     1.8  \n",
       "4                     2.0  \n",
       "5                     2.5  \n",
       "6                     3.0  \n",
       "7                     5.0  "
      ]
     },
     "execution_count": 13,
     "metadata": {},
     "output_type": "execute_result"
    }
   ],
   "source": [
    "loan_deposit01"
   ]
  },
  {
   "cell_type": "code",
   "execution_count": null,
   "id": "8a098346",
   "metadata": {},
   "outputs": [],
   "source": [
    "# we can calculate its \"partial duration\" for each term as follows (only shows how to get duration\n",
    "# for term=1Y as an example)"
   ]
  },
  {
   "cell_type": "code",
   "execution_count": 14,
   "id": "85430212",
   "metadata": {},
   "outputs": [],
   "source": [
    "# 1. assume increasing 1 year loan interest rate and deposit rate by 0.5%, so they are 2.5% and 1%.\n",
    "# 2. all other interest rates stay the same.\n",
    "# 3. partial D of the portfolio equals the weighted average of the partial durations of the \n",
    "#    individual assets (liability).\n",
    "# 4. for loan D= -1/B* [(change of B)/(change of y interest rate)]=-1/1282.92*[(1282.44-1282.92)/(0.005)]\n",
    "#    =0.075; \n",
    "# 5. similarly for deposit D=1/1683.7*[(1682.22-1683.7)/(0.005)]=-0.176\n",
    "# 6. partial D of the portfolio is [1283*0.075+1684*(-0.176)]/(1283+1684)=-0.067\n",
    "# 7. similarly, we can calculate partial D for 2,3,4,...30 years."
   ]
  },
  {
   "cell_type": "code",
   "execution_count": 20,
   "id": "b2903639",
   "metadata": {},
   "outputs": [],
   "source": [
    "df = pd.DataFrame([[-0.067,-0.319,-0.267,-0.134,0.154,0.541,0.824,0.22]], \n",
    "     index=['partial_duartaion'],columns =['Y1','Y2','Y3','Y4','Y5','Y7','Y10','Y30'])"
   ]
  },
  {
   "cell_type": "code",
   "execution_count": 21,
   "id": "4566d2ba",
   "metadata": {},
   "outputs": [
    {
     "data": {
      "text/html": [
       "<div>\n",
       "<style scoped>\n",
       "    .dataframe tbody tr th:only-of-type {\n",
       "        vertical-align: middle;\n",
       "    }\n",
       "\n",
       "    .dataframe tbody tr th {\n",
       "        vertical-align: top;\n",
       "    }\n",
       "\n",
       "    .dataframe thead th {\n",
       "        text-align: right;\n",
       "    }\n",
       "</style>\n",
       "<table border=\"1\" class=\"dataframe\">\n",
       "  <thead>\n",
       "    <tr style=\"text-align: right;\">\n",
       "      <th></th>\n",
       "      <th>Y1</th>\n",
       "      <th>Y2</th>\n",
       "      <th>Y3</th>\n",
       "      <th>Y4</th>\n",
       "      <th>Y5</th>\n",
       "      <th>Y7</th>\n",
       "      <th>Y10</th>\n",
       "      <th>Y30</th>\n",
       "    </tr>\n",
       "  </thead>\n",
       "  <tbody>\n",
       "    <tr>\n",
       "      <th>partial_duartaion</th>\n",
       "      <td>-0.067</td>\n",
       "      <td>-0.319</td>\n",
       "      <td>-0.267</td>\n",
       "      <td>-0.134</td>\n",
       "      <td>0.154</td>\n",
       "      <td>0.541</td>\n",
       "      <td>0.824</td>\n",
       "      <td>0.22</td>\n",
       "    </tr>\n",
       "  </tbody>\n",
       "</table>\n",
       "</div>"
      ],
      "text/plain": [
       "                      Y1     Y2     Y3     Y4     Y5     Y7    Y10   Y30\n",
       "partial_duartaion -0.067 -0.319 -0.267 -0.134  0.154  0.541  0.824  0.22"
      ]
     },
     "execution_count": 21,
     "metadata": {},
     "output_type": "execute_result"
    }
   ],
   "source": [
    "df"
   ]
  },
  {
   "cell_type": "code",
   "execution_count": null,
   "id": "b55fe840",
   "metadata": {},
   "outputs": [],
   "source": [
    "# we can see that this fictitious bank's interest rate sensitivity is different, \n",
    "# 10 year rate is more sensitive than 30 year rate or 1 year rate. "
   ]
  },
  {
   "cell_type": "code",
   "execution_count": null,
   "id": "dd3e2177",
   "metadata": {},
   "outputs": [],
   "source": [
    "# this means when the yield curve changes differently, the bank's assets & liabilities will behave\n",
    "# differently. "
   ]
  },
  {
   "cell_type": "code",
   "execution_count": null,
   "id": "632d56a4",
   "metadata": {},
   "outputs": [],
   "source": [
    "# for example, if the interest rate of all term increase by 1e (e is a small number), \n",
    "# then the duration(D) of portfolio is 0.95e;\n",
    "# if the 7,10,30 year rate increase by 1e, the D of portfolio becomes 0.541+0.824+0.22=1.59e;\n",
    "# if 1,2,3 year rate increse by 1e, then D is -0.65e;\n",
    "# if only 4,5 year rate increase by 1e, then D is 0.02e, almost no impact to the portfolio."
   ]
  },
  {
   "cell_type": "code",
   "execution_count": null,
   "id": "3e4ca240",
   "metadata": {},
   "outputs": [],
   "source": [
    "# however, when rates changed tremendously for every term, we need to use convexity and there will be\n",
    "# a lot of cross-terms. And it is difficult to see which rates impact bank portfolio most.\n",
    "# in that case, we can use PCA technique."
   ]
  },
  {
   "cell_type": "code",
   "execution_count": null,
   "id": "d23ac038",
   "metadata": {},
   "outputs": [],
   "source": []
  },
  {
   "cell_type": "code",
   "execution_count": null,
   "id": "5e850a3f",
   "metadata": {},
   "outputs": [],
   "source": []
  },
  {
   "cell_type": "code",
   "execution_count": 5,
   "id": "5903daa9",
   "metadata": {},
   "outputs": [],
   "source": [
    "import os\n",
    "cwd = os.getcwd()\n",
    "os.chdir(\"H:\\\\interest_rate_risk\")"
   ]
  },
  {
   "cell_type": "code",
   "execution_count": 6,
   "id": "4bbeb892",
   "metadata": {},
   "outputs": [],
   "source": [
    "import pandas as pd\n",
    "import numpy as np\n",
    "import scipy.linalg as la"
   ]
  },
  {
   "cell_type": "code",
   "execution_count": 7,
   "id": "3906b87a",
   "metadata": {},
   "outputs": [],
   "source": [
    "np.set_printoptions(precision=3)\n",
    "\n",
    "#without using scientific number in numpy;\n",
    "np.set_printoptions(suppress=True)"
   ]
  },
  {
   "cell_type": "code",
   "execution_count": 8,
   "id": "2b4e7dea",
   "metadata": {},
   "outputs": [],
   "source": [
    "data01=pd.read_csv(\"H:\\\\rate_data.csv\")"
   ]
  },
  {
   "cell_type": "code",
   "execution_count": 9,
   "id": "c8973d0b",
   "metadata": {},
   "outputs": [],
   "source": [
    "# below is the data of interest rate change (in %) from 2000 to 2011, total of 2,780 obs.\n",
    "# rate is 1y, 2y, 3y, ... , 30y rate."
   ]
  },
  {
   "cell_type": "code",
   "execution_count": 10,
   "id": "e7720e6d",
   "metadata": {},
   "outputs": [
    {
     "data": {
      "text/html": [
       "<div>\n",
       "<style scoped>\n",
       "    .dataframe tbody tr th:only-of-type {\n",
       "        vertical-align: middle;\n",
       "    }\n",
       "\n",
       "    .dataframe tbody tr th {\n",
       "        vertical-align: top;\n",
       "    }\n",
       "\n",
       "    .dataframe thead th {\n",
       "        text-align: right;\n",
       "    }\n",
       "</style>\n",
       "<table border=\"1\" class=\"dataframe\">\n",
       "  <thead>\n",
       "    <tr style=\"text-align: right;\">\n",
       "      <th></th>\n",
       "      <th>1year</th>\n",
       "      <th>2year</th>\n",
       "      <th>3year</th>\n",
       "      <th>4year</th>\n",
       "      <th>5year</th>\n",
       "      <th>7year</th>\n",
       "      <th>10year</th>\n",
       "      <th>30year</th>\n",
       "    </tr>\n",
       "  </thead>\n",
       "  <tbody>\n",
       "    <tr>\n",
       "      <th>0</th>\n",
       "      <td>-7.0</td>\n",
       "      <td>-10.0</td>\n",
       "      <td>-10.0</td>\n",
       "      <td>-10.0</td>\n",
       "      <td>-9.0</td>\n",
       "      <td>-9.0</td>\n",
       "      <td>-10.0</td>\n",
       "      <td>-8.0</td>\n",
       "    </tr>\n",
       "    <tr>\n",
       "      <th>1</th>\n",
       "      <td>4.0</td>\n",
       "      <td>7.0</td>\n",
       "      <td>7.0</td>\n",
       "      <td>8.0</td>\n",
       "      <td>8.0</td>\n",
       "      <td>8.0</td>\n",
       "      <td>7.0</td>\n",
       "      <td>5.0</td>\n",
       "    </tr>\n",
       "    <tr>\n",
       "      <th>2</th>\n",
       "      <td>-6.0</td>\n",
       "      <td>-9.0</td>\n",
       "      <td>-8.0</td>\n",
       "      <td>-9.0</td>\n",
       "      <td>-9.0</td>\n",
       "      <td>-9.0</td>\n",
       "      <td>-7.0</td>\n",
       "      <td>-7.0</td>\n",
       "    </tr>\n",
       "    <tr>\n",
       "      <th>3</th>\n",
       "      <td>3.0</td>\n",
       "      <td>5.0</td>\n",
       "      <td>5.0</td>\n",
       "      <td>7.0</td>\n",
       "      <td>7.0</td>\n",
       "      <td>7.0</td>\n",
       "      <td>6.0</td>\n",
       "      <td>5.0</td>\n",
       "    </tr>\n",
       "    <tr>\n",
       "      <th>4</th>\n",
       "      <td>0.0</td>\n",
       "      <td>1.0</td>\n",
       "      <td>0.0</td>\n",
       "      <td>0.0</td>\n",
       "      <td>0.0</td>\n",
       "      <td>1.0</td>\n",
       "      <td>2.0</td>\n",
       "      <td>1.0</td>\n",
       "    </tr>\n",
       "    <tr>\n",
       "      <th>5</th>\n",
       "      <td>2.0</td>\n",
       "      <td>2.0</td>\n",
       "      <td>3.0</td>\n",
       "      <td>2.0</td>\n",
       "      <td>3.0</td>\n",
       "      <td>2.0</td>\n",
       "      <td>1.0</td>\n",
       "      <td>-1.0</td>\n",
       "    </tr>\n",
       "    <tr>\n",
       "      <th>6</th>\n",
       "      <td>-2.0</td>\n",
       "      <td>-3.0</td>\n",
       "      <td>-4.0</td>\n",
       "      <td>-3.0</td>\n",
       "      <td>-4.0</td>\n",
       "      <td>-4.0</td>\n",
       "      <td>-4.0</td>\n",
       "      <td>-6.0</td>\n",
       "    </tr>\n",
       "    <tr>\n",
       "      <th>7</th>\n",
       "      <td>4.0</td>\n",
       "      <td>5.0</td>\n",
       "      <td>6.0</td>\n",
       "      <td>5.0</td>\n",
       "      <td>6.0</td>\n",
       "      <td>5.0</td>\n",
       "      <td>4.0</td>\n",
       "      <td>4.0</td>\n",
       "    </tr>\n",
       "    <tr>\n",
       "      <th>8</th>\n",
       "      <td>4.0</td>\n",
       "      <td>7.0</td>\n",
       "      <td>7.0</td>\n",
       "      <td>8.0</td>\n",
       "      <td>9.0</td>\n",
       "      <td>10.0</td>\n",
       "      <td>12.0</td>\n",
       "      <td>11.0</td>\n",
       "    </tr>\n",
       "    <tr>\n",
       "      <th>9</th>\n",
       "      <td>0.0</td>\n",
       "      <td>0.0</td>\n",
       "      <td>0.0</td>\n",
       "      <td>0.0</td>\n",
       "      <td>0.0</td>\n",
       "      <td>0.0</td>\n",
       "      <td>0.0</td>\n",
       "      <td>1.0</td>\n",
       "    </tr>\n",
       "  </tbody>\n",
       "</table>\n",
       "</div>"
      ],
      "text/plain": [
       "   1year  2year  3year  4year  5year  7year  10year  30year\n",
       "0   -7.0  -10.0  -10.0  -10.0   -9.0   -9.0   -10.0    -8.0\n",
       "1    4.0    7.0    7.0    8.0    8.0    8.0     7.0     5.0\n",
       "2   -6.0   -9.0   -8.0   -9.0   -9.0   -9.0    -7.0    -7.0\n",
       "3    3.0    5.0    5.0    7.0    7.0    7.0     6.0     5.0\n",
       "4    0.0    1.0    0.0    0.0    0.0    1.0     2.0     1.0\n",
       "5    2.0    2.0    3.0    2.0    3.0    2.0     1.0    -1.0\n",
       "6   -2.0   -3.0   -4.0   -3.0   -4.0   -4.0    -4.0    -6.0\n",
       "7    4.0    5.0    6.0    5.0    6.0    5.0     4.0     4.0\n",
       "8    4.0    7.0    7.0    8.0    9.0   10.0    12.0    11.0\n",
       "9    0.0    0.0    0.0    0.0    0.0    0.0     0.0     1.0"
      ]
     },
     "execution_count": 10,
     "metadata": {},
     "output_type": "execute_result"
    }
   ],
   "source": [
    "data01.head(10)"
   ]
  },
  {
   "cell_type": "code",
   "execution_count": 11,
   "id": "16c2bc85",
   "metadata": {},
   "outputs": [],
   "source": [
    "data02=data01.to_numpy()"
   ]
  },
  {
   "cell_type": "code",
   "execution_count": 193,
   "id": "6e7231e6",
   "metadata": {},
   "outputs": [],
   "source": [
    "# transpose data to \"wide\" format, each col is an observation;"
   ]
  },
  {
   "cell_type": "code",
   "execution_count": 194,
   "id": "09b7488a",
   "metadata": {},
   "outputs": [
    {
     "data": {
      "text/plain": [
       "array([[ -7.  ,   4.  ,  -6.  , ...,   5.  ,  -1.  ,   0.43],\n",
       "       [-10.  ,   7.  ,  -9.  , ...,   4.  ,  -2.  ,   0.44],\n",
       "       [-10.  ,   7.  ,  -8.  , ...,   4.  ,  -3.  ,   0.59],\n",
       "       ...,\n",
       "       [ -9.  ,   8.  ,  -9.  , ...,   3.  ,  -1.  ,   1.82],\n",
       "       [-10.  ,   7.  ,  -7.  , ...,   1.  ,   4.  ,   2.42],\n",
       "       [ -8.  ,   5.  ,  -7.  , ...,   1.  ,   9.  ,   3.35]])"
      ]
     },
     "execution_count": 194,
     "metadata": {},
     "output_type": "execute_result"
    }
   ],
   "source": [
    "data03=data02.T\n",
    "data03"
   ]
  },
  {
   "cell_type": "code",
   "execution_count": 195,
   "id": "f0d01501",
   "metadata": {},
   "outputs": [
    {
     "data": {
      "text/plain": [
       "(8, 2780)"
      ]
     },
     "execution_count": 195,
     "metadata": {},
     "output_type": "execute_result"
    }
   ],
   "source": [
    "data03.shape"
   ]
  },
  {
   "cell_type": "code",
   "execution_count": 196,
   "id": "c986c276",
   "metadata": {},
   "outputs": [],
   "source": [
    "# get mean-deviation form:"
   ]
  },
  {
   "cell_type": "code",
   "execution_count": 197,
   "id": "e6a1a41c",
   "metadata": {},
   "outputs": [],
   "source": [
    "mean_matrix=np.tile(np.mean(data03,axis=1).reshape(data03.shape[0],1),(1,data03.shape[1]))"
   ]
  },
  {
   "cell_type": "code",
   "execution_count": 198,
   "id": "c543f491",
   "metadata": {},
   "outputs": [],
   "source": [
    "data04=data03-mean_matrix"
   ]
  },
  {
   "cell_type": "code",
   "execution_count": 199,
   "id": "9ab8eb3e",
   "metadata": {},
   "outputs": [
    {
     "data": {
      "text/plain": [
       "(8, 2780)"
      ]
     },
     "execution_count": 199,
     "metadata": {},
     "output_type": "execute_result"
    }
   ],
   "source": [
    "data04.shape"
   ]
  },
  {
   "cell_type": "code",
   "execution_count": 200,
   "id": "184a7ecb",
   "metadata": {},
   "outputs": [],
   "source": [
    "# calculate the covariance matrix "
   ]
  },
  {
   "cell_type": "code",
   "execution_count": 201,
   "id": "bdcc4c83",
   "metadata": {},
   "outputs": [],
   "source": [
    "cov_matrix=np.dot(data04,data04.T)/(data04.shape[1]-1)"
   ]
  },
  {
   "cell_type": "code",
   "execution_count": 202,
   "id": "d741522b",
   "metadata": {},
   "outputs": [
    {
     "data": {
      "text/plain": [
       "array([[22.152, 26.801, 27.029, 26.477, 25.907, 23.686, 21.084, 15.209],\n",
       "       [26.801, 38.473, 40.541, 40.783, 40.628, 37.99 , 34.652, 26.163],\n",
       "       [27.029, 40.541, 44.88 , 45.81 , 46.187, 43.886, 40.614, 31.45 ]])"
      ]
     },
     "execution_count": 202,
     "metadata": {},
     "output_type": "execute_result"
    }
   ],
   "source": [
    "cov_matrix[0:3,:]"
   ]
  },
  {
   "cell_type": "code",
   "execution_count": null,
   "id": "9b09050c",
   "metadata": {},
   "outputs": [],
   "source": []
  },
  {
   "cell_type": "code",
   "execution_count": 209,
   "id": "390cbad4",
   "metadata": {},
   "outputs": [
    {
     "name": "stdout",
     "output_type": "stream",
     "text": [
      "[308.14 +0.j  22.745+0.j   4.317+0.j   1.668+0.j   0.835+0.j   0.537+0.j\n",
      "   0.279+0.j   0.309+0.j]\n"
     ]
    }
   ],
   "source": [
    "#eigenvalues:\n",
    "eig_value=la.eig(cov_matrix)[0]\n",
    "print(eig_value)"
   ]
  },
  {
   "cell_type": "code",
   "execution_count": null,
   "id": "2b0584b9",
   "metadata": {},
   "outputs": [],
   "source": []
  },
  {
   "cell_type": "code",
   "execution_count": 210,
   "id": "74ec768f",
   "metadata": {},
   "outputs": [
    {
     "name": "stdout",
     "output_type": "stream",
     "text": [
      "[[ 0.216 -0.501  0.628  0.487  0.122 -0.237  0.034  0.011]\n",
      " [ 0.331 -0.429  0.129 -0.354 -0.212  0.674 -0.236 -0.1  ]\n",
      " [ 0.372 -0.267 -0.157 -0.414 -0.096 -0.311  0.564  0.413]\n",
      " [ 0.392 -0.11  -0.256 -0.174 -0.019 -0.551 -0.512 -0.416]\n",
      " [ 0.404  0.019 -0.355  0.269  0.595  0.278  0.327 -0.316]\n",
      " [ 0.394  0.194 -0.195  0.336  0.007  0.1   -0.422  0.685]\n",
      " [ 0.376  0.371  0.068  0.305 -0.684  0.039  0.279 -0.278]\n",
      " [ 0.305  0.554  0.575 -0.398  0.331 -0.022 -0.032  0.007]]\n"
     ]
    }
   ],
   "source": [
    "#eigenvectors:\n",
    "eig_vector=la.eig(cov_matrix)[1]\n",
    "print(eig_vector)"
   ]
  },
  {
   "cell_type": "code",
   "execution_count": null,
   "id": "aa123b50",
   "metadata": {},
   "outputs": [],
   "source": [
    "# we can see that the first factor, corresponds to a roughly parallel shift in the yield curve. When we\n",
    "# have one-year rate increase by 0.216 basis points, two-year rate increases by 0.331 basis point, \n",
    "# and so on. \n",
    "# the second factor shows that rates between year 1 and year 4 decreased while year 5 to year 30\n",
    "# increased."
   ]
  },
  {
   "cell_type": "code",
   "execution_count": null,
   "id": "a69d4fb6",
   "metadata": {},
   "outputs": [],
   "source": []
  },
  {
   "cell_type": "code",
   "execution_count": 218,
   "id": "4d88d37c",
   "metadata": {},
   "outputs": [
    {
     "name": "stderr",
     "output_type": "stream",
     "text": [
      "C:\\Users\\thesu\\AppData\\Local\\Temp\\ipykernel_29048\\2412938883.py:3: ComplexWarning: Casting complex values to real discards the imaginary part\n",
      "  round(float(sum(eig_value[0:2])/sum(eig_value)),3)\n"
     ]
    },
    {
     "data": {
      "text/plain": [
       "0.977"
      ]
     },
     "execution_count": 218,
     "metadata": {},
     "output_type": "execute_result"
    }
   ],
   "source": [
    "# the first 2 factors already explained 97.7% of the variance in the data.\n",
    "\n",
    "round(float(sum(eig_value[0:2])/sum(eig_value)),3)"
   ]
  },
  {
   "cell_type": "code",
   "execution_count": null,
   "id": "c661b36b",
   "metadata": {},
   "outputs": [],
   "source": []
  }
 ],
 "metadata": {
  "kernelspec": {
   "display_name": "Python 3 (ipykernel)",
   "language": "python",
   "name": "python3"
  },
  "language_info": {
   "codemirror_mode": {
    "name": "ipython",
    "version": 3
   },
   "file_extension": ".py",
   "mimetype": "text/x-python",
   "name": "python",
   "nbconvert_exporter": "python",
   "pygments_lexer": "ipython3",
   "version": "3.10.1"
  }
 },
 "nbformat": 4,
 "nbformat_minor": 5
}
